{
 "cells": [
  {
   "cell_type": "code",
   "execution_count": 1,
   "metadata": {},
   "outputs": [],
   "source": [
    "import pandas as pd"
   ]
  },
  {
   "cell_type": "code",
   "execution_count": 2,
   "metadata": {},
   "outputs": [],
   "source": [
    "df = pd.read_csv('DataSets/ItemDataWithAiDescription.csv', index_col=0)"
   ]
  },
  {
   "cell_type": "code",
   "execution_count": null,
   "metadata": {},
   "outputs": [
    {
     "data": {
      "text/plain": [
       "0    The item is a hoodie from the category of Hood...\n",
       "0    The item is categorized as trousers and is spe...\n",
       "0    The item is a denim jacket categorized under C...\n",
       "0    The item is an **Oversized Camo Nylon Bomber J...\n",
       "0    The item is a coat categorized as a varsity ja...\n",
       "                           ...                        \n",
       "0    The YMC Embroidered Cap falls under the catego...\n",
       "0    The YMC Ibiza '89 Pyramid T-Shirt falls under ...\n",
       "0    The YMC Ibiza '89 Dancers T-Shirt is categoriz...\n",
       "0    The YMC Ibiza '89 Sunset T-Shirt is categorize...\n",
       "0    The Yogi Lennon Suede is a pair of footwear ca...\n",
       "Name: AIDescription, Length: 14912, dtype: object"
      ]
     },
     "execution_count": 4,
     "metadata": {},
     "output_type": "execute_result"
    }
   ],
   "source": [
    "df[\"AIDescription\"]"
   ]
  },
  {
   "cell_type": "code",
   "execution_count": 5,
   "metadata": {},
   "outputs": [],
   "source": [
    "product_descriptors = {\n",
    "    \"product_name\": \"The name of the item\",\n",
    "    \"category\": \"The category, like t-shirt, trousers, jeans, skirt, long sleeve t-shirt, jacket, boots, dress shoes etc.\",\n",
    "    \"brand\": \"Brand Name\",\n",
    "    \"fashion_season\": \"The season the item/collection came out. Mostly applicable to high end fashion. E.g., Spring/Summer 2024 is SS24 or Autumn/Winter 2024 is AW24\",\n",
    "    \"primary_colour\": \"The primary colour\",\n",
    "    \"secondary_colour\": \"The secondary colour\",\n",
    "    \"pattern\": \"The pattern on the clothing like floral, striped, plain etc.\",\n",
    "    \"fabric\": \"The material of the fabric; e.g., cotton, polyester, wool\",\n",
    "    \"price\": \"This is the price of the item in dollars\",\n",
    "    \"price_category\": \"budget, mid-range, luxury, or haut couture\",\n",
    "    \"size\": \"sizing of the product\",\n",
    "    \"fit\": \"the fit of the item, e.g., tight, slim fit, regular, oversized, boxy\",\n",
    "    \"gender_audience\": \"Is this aimed at men, women, or unisex\",\n",
    "    \"age_audience\": \"Is this aimed at toddlers, children, teens, adults, or old aged.\",\n",
    "    \"season\": \"What season is this aimed to be worn in: i.e., summer, winter, autumn, spring\",\n",
    "    \"occasion\": \"Occasions or settings (e.g., casual, formal, athletic).\",\n",
    "    \"sleeve_length\": \"For tops/jackets (e.g., short, long, sleeveless).\",\n",
    "    \"neckline\": \"The style of the neckline (e.g., V-neck, crew neck).\",\n",
    "    \"country_of_manufacture\": \"Where the item was made.\",\n",
    "    \"closure_type\": \"Details such as buttons, zippers, hooks, or laces.\",\n",
    "    \"pocket_details\": \"Specifics on the number, placement, or style of pockets\",\n",
    "    \"embellishments\": \"Information on additional decorative elements like embroidery, sequins, or patches.\",\n",
    "    \"second_hand\": \"True if the item is pre-owned\",\n",
    "    \"description\": \"A textual description that highlights special features or details.\",\n",
    "    \"image_urls\": \"Image urls\",\n",
    "    \"sustainability_info\": \"Information on eco-friendliness, ethical production, or sustainability certifications.\",\n",
    "    \"additional_features\": \"Any other unique details like waterproofing, stretchability, or tech integration. that haven't been described by the attributes above.\"\n",
    "}"
   ]
  },
  {
   "cell_type": "markdown",
   "metadata": {},
   "source": [
    "Some ideas for building the most accurate retriever\n",
    "\n",
    "- Using the feature dictionary as above. An LLM can use description analysis and image analysis to populate a dictionary for the item with words/phrases as each value using the above reference dictionary as an example.\n",
    "\n",
    "- I could force the LLM to choose between specific words for each key-value pair and then use a simple search for specific options when finding a similar item.\n",
    "\n",
    "- Or I could use short embeddings for description words and use a similarity check so that descriptors that are close to eachother come up in the search. E.g., very expensive, expensive, and cheap could be one of 5 categories but I would prefer that an item in the very expensive category is more \"similar\" than the \"cheap\" one. This is especially applicable to descriptors of style where the lines are slightly more blurred and natural language would be better than specific options.\n",
    "\n",
    "- I may want to use an AI agent to look at the customer description to assign weights (or even hard stops) on features. For exmaple if a user asks for shorts specifically in the query then the agent sets a hard filter on the catgegory to match shorts. Or also if a person says something under £20 then we only want to show items under £20.\n",
    "\n",
    "- When I retrieve some items I might want to use an AI agent to have a look at the recommendations and rank them in usefullness compared to the user query as an additional check at the end.\n",
    "\n",
    "- I could include a 'addtional comments' bit of the description where I ask the AI to give a brief description of the style of the item and any other information that might be useful and use a vector store on that specific column in conjunction with the other search functions.\n",
    "\n",
    "- An important aspect will be how to handle features of the item dictionary which are null. I won't be able to fill every feature with the user query. Maybe only comparing on a certain subset of features which can actually be determined from the query."
   ]
  }
 ],
 "metadata": {
  "kernelspec": {
   "display_name": "base",
   "language": "python",
   "name": "python3"
  },
  "language_info": {
   "codemirror_mode": {
    "name": "ipython",
    "version": 3
   },
   "file_extension": ".py",
   "mimetype": "text/x-python",
   "name": "python",
   "nbconvert_exporter": "python",
   "pygments_lexer": "ipython3",
   "version": "3.12.4"
  }
 },
 "nbformat": 4,
 "nbformat_minor": 2
}
