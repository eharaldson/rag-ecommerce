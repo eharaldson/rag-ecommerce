{
 "cells": [
  {
   "cell_type": "markdown",
   "metadata": {},
   "source": [
    "# RAG for FindAI\n",
    "\n",
    "<img src=\"RAG_FindAI.jpg\" alt=\"drawing\" width=\"800\"/>"
   ]
  },
  {
   "cell_type": "code",
   "execution_count": 2,
   "metadata": {},
   "outputs": [],
   "source": [
    "### LLM\n",
    "from langchain_ollama import ChatOllama\n",
    "\n",
    "local_llm = \"llama3.2:3b-instruct-fp16\"\n",
    "llm = ChatOllama(model=local_llm, temperature=0)\n",
    "llm_json_mode = ChatOllama(model=local_llm, temperature=0, format=\"json\")"
   ]
  },
  {
   "cell_type": "code",
   "execution_count": 4,
   "metadata": {},
   "outputs": [],
   "source": [
    "#### Search ####\n",
    "\n",
    "import os\n",
    "import getpass\n",
    "\n",
    "def _set_env(var: str):\n",
    "    if not os.environ.get(var):\n",
    "        os.environ[var] = getpass.getpass(f\"{var}: \")\n",
    "\n",
    "# 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\n",
    "_set_env(\"TAVILY_API_KEY\")\n",
    "os.environ[\"TOKENIZERS_PARALLELISM\"] = \"true\""
   ]
  },
  {
   "cell_type": "code",
   "execution_count": 5,
   "metadata": {},
   "outputs": [
    {
     "name": "stderr",
     "output_type": "stream",
     "text": [
      "USER_AGENT environment variable not set, consider setting it to identify your requests.\n"
     ]
    }
   ],
   "source": [
    "#### Vectore Store ####\n",
    "\n",
    "from langchain.text_splitter import RecursiveCharacterTextSplitter\n",
    "from langchain_community.document_loaders import WebBaseLoader\n",
    "from langchain_community.vectorstores import SKLearnVectorStore\n",
    "from langchain_nomic.embeddings import NomicEmbeddings\n",
    "from langchain_core.documents import Document\n",
    "import pandas as pd\n",
    "\n",
    "df = pd.read_csv('ItemDataWithAiDescription.csv', index_col=0)\n",
    "\n",
    "def get_document(row: pd.Series):\n",
    "\n",
    "    metadata = {\n",
    "        'product_name': row['ProductName'], \n",
    "        'brand': row['Brand'], \n",
    "        'price': row['Price'], \n",
    "        'category': row['Category'], \n",
    "        'image_url': row['ImageUrls'].split(\"', \")[0].replace(\"['\", \"\")\n",
    "        }\n",
    "    \n",
    "    document = Document(page_content=row['AIDescription'], metadata=metadata)\n",
    "\n",
    "    return document\n",
    "\n",
    "df['document'] = df.apply(lambda x: get_document(x), axis=1)\n",
    "\n",
    "documents = df['document'].to_list()\n",
    "\n",
    "# Add to vectorDB\n",
    "vectorstore = SKLearnVectorStore.from_documents(\n",
    "    documents=documents,\n",
    "    embedding=NomicEmbeddings(model=\"nomic-embed-text-v1.5\", inference_mode=\"local\"),\n",
    ")\n",
    "\n",
    "# Create retriever\n",
    "retriever = vectorstore.as_retriever(k=3)"
   ]
  },
  {
   "cell_type": "code",
   "execution_count": 26,
   "metadata": {},
   "outputs": [
    {
     "data": {
      "text/plain": [
       "[Document(metadata={'id': '78362682-7618-4e83-84f3-ce063a5b04c9', 'product_name': 'AMIRI Core Logo Hoodie', 'brand': 'amiri', 'price': 437.0, 'category': 'Hoodies & Sweats', 'image_url': 'https://media.endclothing.com/media/f_auto,q_auto:eco,w_200/prodmedia/media/catalog/product/1/2/12-02-2024-JW_AMJYHD1008-ASB_1_1.jpg'}, page_content=\"The item is categorized as a hoodie and falls under the category of Hoodies & Sweats. It is produced by the brand amiri, known for its blend of rock ‘n’ roll and Ivy League styles. The primary material of this hoodie is 100% French terry cotton, offering both warmth and comfort. \\n\\nIn terms of color, the main color is not specified; however, given the brand's aesthetic, it typically features muted or muted tones associated with casual streetwear. The hoodie may also have a core logo embossed on the chest, which is a notable design feature reflecting the label's bold graphic influence.\\n\\nThe fit is designed for comfort and practicality, featuring a fixed hood for additional warmth and coverage. It incorporates a kangaroo pocket, ideal for stashing small essentials or keeping hands warm. The ribbed trims add a touch of structure to the overall style, enhancing the hoodie’s casual yet refined appearance.\\n\\nThis hoodie represents a luxury item, appealing to individuals in the fashion-forward circles, like Hollywood celebrities. It is typically suitable for casual occasions, streetwear outings, or lounging, embodying a chic yet laid-back aesthetic that aligns with modern street style. Overall, this piece combines comfort with high-end design elements, making it a distinctive addition to any casual wardrobe.\"),\n",
       " Document(metadata={'id': 'e3b1eea0-f564-46ef-b4f4-322cc793c2ec', 'product_name': 'Alpha Industries Space Shuttle Hoodie - END. Exclusive', 'brand': 'alpha-industries', 'price': 50.0, 'category': 'Hoodies & Sweats', 'image_url': 'https://media.endclothing.com/media/f_auto,q_auto:eco,w_200/prodmedia/media/catalog/product/2/2/22-09-2023-JWx_178317-03_1_1.jpg'}, page_content=\"The item in question is a hoodie, categorized under Hoodies & Sweats. It is produced by the brand Alpha Industries. The primary material composition of this hoodie is 80% cotton and 20% polyester, crafted from fleeceback jersey, which contributes to its comfort and warmth.\\n\\nThe main color of the hoodie is a greyscale tone, which is characteristic of the END. exclusive colorway. This design pays homage to the 100th space shuttle mission, featuring a notable rocket-inspired graphic on the back, highlighting the item's connection to NASA. In addition to the monochromatic palette, the hoodie includes various functional design elements.\\n\\nThe fit of the hoodie is unisex and offers a casual style suitable for everyday wear. Design features include a drawstring hood for adjustable coverage, a utility pocket that speaks to its military-inspired aesthetic, and a pouch pocket at the front for convenience. The hoodie also boasts appliqué branding and ribbed trims, enhancing both its visual appeal and structural integrity.\\n\\nAlthough not classified as a luxury item, the hoodie incorporates unique design elements and references that make it stand out. It is well-suited for casual outings, streetwear fashion, or relaxed weekend activities. The combination of style, comfort, and thematic inspiration makes it a distinctive piece for those interested in space exploration or a contemporary streetwear aesthetic.\"),\n",
       " Document(metadata={'id': '56cba5aa-7e76-421e-bf14-de3e6aa87001', 'product_name': 'VETEMENTS Double Anarchy Hoodie', 'brand': 'vetements', 'price': 631.0, 'category': 'Hoodies & Sweats', 'image_url': 'https://media.endclothing.com/media/f_auto,q_auto:eco,w_200/prodmedia/media/catalog/product/2/9/29-07-2024-JW_UA65HD650B_1_1.jpg'}, page_content=\"**Item Type and Category:**  \\nThis item is a hoodie categorized under Hoodies & Sweats.\\n\\n**Brand:**  \\nThe item is produced by the French luxury fashion brand VETEMENTS.\\n\\n**Material:**  \\nThe hoodie is crafted from 80% cotton and 20% polyester, featuring a soft French terry lining, which enhances comfort.\\n\\n**Main Color:**  \\nThe main color of the hoodie is not specified in the provided information.\\n\\n**Secondary Colors or Patterns:**  \\nThe hoodie includes radical printed graphics, emphasizing its bold and rebellious design aesthetic.\\n\\n**Fit and Style:**  \\nThe VETEMENTS Double Anarchy Hoodie features a relaxed fit with dropped shoulder seams, promoting a comfortable and casual style. It is designed to be a pullover type, making it easy to wear.\\n\\n**Notable Design Features:**  \\nAmong its notable features are a drawstring hood for adjustable coverage, a kangaroo pouch pocket for convenient storage, and the unique printed graphics that reflect the brand's avant-garde approach. This hoodie can be machine washed for easy maintenance.\\n\\n**Luxury Item:**  \\nAs a product of VETEMENTS, a recognized luxury fashion brand, this hoodie represents a high-end styling and craftsmanship inherent to luxury apparel.\\n\\n**Typical Occasion or Style Intended For:**  \\nThe hoodie is designed for off-duty days, providing a comfortable and stylish option for casual wear.\\n\\n**Unique Characteristics:**  \\nThe combination of high-quality materials, luxury branding, and distinctive graphics makes this hoodie a standout piece for those looking to express their style with a rebellious twist.\"),\n",
       " Document(metadata={'id': '7fe44a70-0c5a-4096-8aa3-9ae9cf9933da', 'product_name': 'Palm Angels Pencil Popover Hoodie', 'brand': 'palm-angels', 'price': 419.0, 'category': 'Hoodies & Sweats', 'image_url': 'https://media.endclothing.com/media/f_auto,q_auto:eco,w_200/prodmedia/media/catalog/product/2/5/25-09-2024-JW_PMBB117F24FLE0011065_1_1.jpg'}, page_content=\"The item is a **hoodie** categorized under **Hoodies & Sweats**. It is designed by the American brand **Palm Angels**. The primary material of the hoodie is **100% cotton**, offering warmth and comfort. The main color of the hoodie is not specified, but the large printed graphic on the rear features a sketch-style design, indicative of a playful and artistic aesthetic. The brand's **PA logo** is printed on the chest, which is presented with a distinctive sealing wax effect, adding a unique design element.\\n\\nIn terms of fit and style, the hoodie is described as **chunky**, providing a relaxed, cozy fit that is ideal for casual wear. The design includes an **attached hood** for added warmth, **ribbed trims** at the cuffs and hem for a snug fit, and a **kangaroo pouch pocket** at the front, allowing for both function and fashion.\\n\\nThis hoodie embodies a distinct West Coast vibe, reflecting a laid-back yet stylish approach to everyday wear. It is suitable for casual occasions or lounging, making it a versatile piece in a contemporary wardrobe. The presence of the large graphic and the unique logo treatment indicates a fashionable design, although the hoodie is not categorized as a luxury item despite its higher price point of **$419.00**. Overall, it showcases elements of urban style and artistic influence, aligning well with informal gatherings or relaxed activities.\")]"
      ]
     },
     "execution_count": 26,
     "metadata": {},
     "output_type": "execute_result"
    }
   ],
   "source": [
    "retriever.invoke('Army style hoodie')"
   ]
  },
  {
   "cell_type": "code",
   "execution_count": 31,
   "metadata": {},
   "outputs": [
    {
     "name": "stdout",
     "output_type": "stream",
     "text": [
      "The item is categorized as a hoodie and falls under the category of Hoodies & Sweats. It is produced by either Gucci or Yves Saint Laurent, both renowned luxury fashion brands known for their high-end designs and bold aesthetics.\n",
      "\n",
      "In terms of material, this oversized hoodie is made from a soft and luxurious blend of materials, likely a combination of cotton, polyester, and/or cashmere, which provides warmth and comfort. The exact composition may vary depending on the brand.\n",
      "\n",
      "The main color of this hoodie is black, a classic and timeless choice that exudes sophistication and elegance. Given the luxury brands involved, it's possible that the hoodie features subtle secondary colors or patterns, such as a faint logo or texture, but these are likely to be understated and not overly prominent.\n",
      "\n",
      "The fit of this oversized hoodie is designed for comfort and relaxation, featuring an oversized silhouette with a loose fit through the body and sleeves. The fixed hood provides additional warmth and coverage, while the ribbed trims add a touch of structure to the overall style.\n",
      "\n",
      "Notable design features of this hoodie include its understated yet luxurious aesthetic, which reflects the high-end sensibilities of Gucci or Yves Saint Laurent. The lack of explicit brand names on the front of the hoodie adds to its sleek and sophisticated appearance, making it suitable for fashion-forward individuals who value discretion and exclusivity.\n",
      "\n",
      "This hoodie represents a luxury item, appealing to individuals with refined tastes and a penchant for high-end fashion. It is typically suitable for formal or semi-formal occasions, such as upscale events, fashion gatherings, or everyday wear in stylish settings. Overall, this piece combines comfort with luxurious design elements, making it a distinctive addition to any fashion-conscious wardrobe. The item is categorized as trousers and falls under the category of Trousers. It is produced by an unknown brand, but based on the description, it appears to be a high-quality pair of trousers.\n",
      "\n",
      "The primary material of these trousers is likely wool or a wool-blend fabric, given their durability and comfort. The main color is plain navy blue, which is a classic and versatile choice for formal and business-casual occasions. However, some pairs may also feature dark blue as the main color, with subtle variations in shade.\n",
      "\n",
      "The fit of these trousers is designed to be slim-fitting, with a straight leg that creates a clean line from waist to hem. The style is likely tailored, with a focus on comfort and flexibility without sacrificing formality. Notable design features may include a flat front, button fly, and side pockets for added convenience.\n",
      "\n",
      "These trousers represent a mid-range luxury item, appealing to individuals who value high-quality fabrics and craftsmanship without breaking the bank. They are typically suitable for formal events, business meetings, or smart-casual occasions, such as networking events or dinner parties. Overall, this pair of trousers combines comfort with style and sophistication, making it an excellent addition to any professional wardrobe. The item is categorized as Home Fragrance and falls under the category of Home Fragrance. It is produced by an unknown brand, but based on the description, it appears to be a high-quality product.\n",
      "\n",
      "The primary material of this living room fragrance or candle is wood, specifically designed to evoke the warm and inviting aromas of various types of wood. The exact type of wood used is not specified, but it is likely to feature a blend of different woods to create a complex and nuanced scent.\n",
      "\n",
      "In terms of color, the product does not have a distinct color, as it is primarily a fragrance or candle. However, the packaging may feature a natural or earthy tone, such as brown or beige, which complements the wood-based scents.\n",
      "\n",
      "The fit and style are not applicable to this product, as it is a solid object designed for use in a living space. Instead, the design features of this product include the unique blend of wood scents, which creates a cozy and welcoming atmosphere. This product represents a luxury item, appealing to individuals who value high-quality home fragrances and candles.\n",
      "\n",
      "The typical occasion or style associated with this product is relaxation and ambiance creation, making it suitable for use in living rooms, dens, or other spaces where one wants to unwind and create a calming atmosphere. Overall, this product combines the warmth of wood scents with the sophistication of luxury home fragrance, making it a distinctive addition to any living space.\n"
     ]
    }
   ],
   "source": [
    "### Query alignment\n",
    "import json\n",
    "from langchain_core.messages import HumanMessage, SystemMessage\n",
    "\n",
    "categories = ['Hoodies & Sweats', 'Trousers', 'Coats & Jackets',\n",
    "       'Shorts', 'Bags', 'T-Shirts', 'Jewellery',\n",
    "       'Belts', 'Swimwear', 'Shirts',\n",
    "       'Accessories', 'Hats', 'Knitwear',\n",
    "       'Socks', 'Lifestyle',\n",
    "       'Sweat Pants', 'Polo Shirts', 'Jeans',\n",
    "       'Sunglasses', 'Scarves & Gloves', 'Wallets & Keychains', 'Publications', 'Sportswear',\n",
    "       'Boots', 'Perfume & Fragrance', 'Sneakers', 'Sandals & Slides',\n",
    "       'Home Decoration', 'Tableware',\n",
    "       'Watches', 'Underwear', 'Loungewear', 'Shoe Care & Accessories',\n",
    "       'Soft Furnishings', 'Lighting', 'Storage & Organisers',\n",
    "       'Glassware', 'Home Fragrance', 'Shoes', 'Slippers', 'Running Shoes']\n",
    "\n",
    "reference_description = \"The item is categorized as a hoodie and falls under the category of Hoodies & Sweats. It is produced by the brand amiri, known for its blend of rock ‘n’ roll and Ivy League styles. The primary material of this hoodie is 100% French terry cotton, offering both warmth and comfort. \\n\\nIn terms of color, the main color is not specified; however, given the brand's aesthetic, it typically features muted or muted tones associated with casual streetwear. The hoodie may also have a core logo embossed on the chest, which is a notable design feature reflecting the label's bold graphic influence.\\n\\nThe fit is designed for comfort and practicality, featuring a fixed hood for additional warmth and coverage. It incorporates a kangaroo pocket, ideal for stashing small essentials or keeping hands warm. The ribbed trims add a touch of structure to the overall style, enhancing the hoodie’s casual yet refined appearance.\\n\\nThis hoodie represents a luxury item, appealing to individuals in the fashion-forward circles, like Hollywood celebrities. It is typically suitable for casual occasions, streetwear outings, or lounging, embodying a chic yet laid-back aesthetic that aligns with modern street style. Overall, this piece combines comfort with high-end design elements, making it a distinctive addition to any casual wardrobe.\"\n",
    "\n",
    "# Prompt\n",
    "router_instructions = f\"\"\"You are an expert at creating a detailed item description from a user query about an item.\n",
    "\n",
    "The structure of the detailed description should begin by identifying the type and category, then specify the material, brand, main color, and any secondary colors or patterns. Describe the fit and style and include any notable design features and whether it is a luxury item or not. Add the typical occasion or style it's intended for, and any other unique characteristics that can be gathered.\n",
    "\n",
    "Here are the possible categories: {', '.join(categories)}\n",
    "\n",
    "The description should be purely descriptive and objective. If there is any information that can't be assumed from the user query then leave it out of the description. The response should be in full sentences without bullet points. Here is a reference of how the description should look like for a hooide: f{reference_description}\"\"\"\n",
    "\n",
    "# Test query_aligner\n",
    "test_hoodie = llm.invoke(\n",
    "    [SystemMessage(content=router_instructions)]\n",
    "    + [\n",
    "        HumanMessage(\n",
    "            content=\"I'm looking for a black hoodie from either Gucci or Yves Saint Laurent, oversized and no explicit brand names on the front of the hoodie.\"\n",
    "        )\n",
    "    ]\n",
    ")\n",
    "\n",
    "test_trousers= llm.invoke(\n",
    "    [SystemMessage(content=router_instructions)]\n",
    "    + [HumanMessage(content=\"Do you have wide legged trousers in plain navy or dark blue, that is under £200\")]\n",
    ")\n",
    "\n",
    "test_fragrance = llm.invoke(\n",
    "    [SystemMessage(content=router_instructions)]\n",
    "    + [HumanMessage(content=\"Living room fragrances or candles. Wooden smells\")]\n",
    ")\n",
    "\n",
    "print(\n",
    "    test_hoodie.content,\n",
    "    test_trousers.content,\n",
    "    test_fragrance.content,\n",
    ")"
   ]
  },
  {
   "cell_type": "markdown",
   "metadata": {},
   "source": [
    "If I want to do searching with filters on metadata - E.g., gathering the category and brand and then running on those it is possible using the filtering described here: https://github.com/langchain-ai/langchain/discussions/18196"
   ]
  },
  {
   "cell_type": "code",
   "execution_count": 1,
   "metadata": {},
   "outputs": [
    {
     "ename": "NameError",
     "evalue": "name 'retriever' is not defined",
     "output_type": "error",
     "traceback": [
      "\u001b[0;31m---------------------------------------------------------------------------\u001b[0m",
      "\u001b[0;31mNameError\u001b[0m                                 Traceback (most recent call last)",
      "Cell \u001b[0;32mIn[1], line 1\u001b[0m\n\u001b[0;32m----> 1\u001b[0m retriever\u001b[38;5;241m.\u001b[39minvoke(\u001b[38;5;124m\"\u001b[39m\u001b[38;5;124mI\u001b[39m\u001b[38;5;124m'\u001b[39m\u001b[38;5;124mm looking for a black hoodie from either Gucci or Yves Saint Laurent, oversized and no explicit brand names on the front of the hoodie.\u001b[39m\u001b[38;5;124m\"\u001b[39m)\n",
      "\u001b[0;31mNameError\u001b[0m: name 'retriever' is not defined"
     ]
    }
   ],
   "source": [
    "retriever.invoke(\"I'm looking for a black hoodie from either Gucci or Yves Saint Laurent, oversized and no explicit brand names on the front of the hoodie.\")"
   ]
  },
  {
   "cell_type": "code",
   "execution_count": null,
   "metadata": {},
   "outputs": [],
   "source": []
  }
 ],
 "metadata": {
  "kernelspec": {
   "display_name": "base",
   "language": "python",
   "name": "python3"
  },
  "language_info": {
   "codemirror_mode": {
    "name": "ipython",
    "version": 3
   },
   "file_extension": ".py",
   "mimetype": "text/x-python",
   "name": "python",
   "nbconvert_exporter": "python",
   "pygments_lexer": "ipython3",
   "version": "3.12.4"
  }
 },
 "nbformat": 4,
 "nbformat_minor": 2
}
